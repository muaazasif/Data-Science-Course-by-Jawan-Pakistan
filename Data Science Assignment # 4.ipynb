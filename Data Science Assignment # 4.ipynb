{
 "cells": [
  {
   "cell_type": "markdown",
   "id": "fd6afd88",
   "metadata": {},
   "source": [
    "we scrapped data from wikipedia page. Now what I want you to do is scrape the same pages from wikipedia but now separate all the different tags.. paragraph, h1, h2 and all other tags and save it into a csv."
   ]
  },
  {
   "cell_type": "code",
   "execution_count": 27,
   "id": "89ebac36",
   "metadata": {},
   "outputs": [],
   "source": [
    "from bs4 import BeautifulSoup\n",
    "import requests\n",
    "import pandas as pd"
   ]
  },
  {
   "cell_type": "code",
   "execution_count": 28,
   "id": "4b8a31cb",
   "metadata": {},
   "outputs": [
    {
     "data": {
      "text/plain": [
       "200"
      ]
     },
     "execution_count": 28,
     "metadata": {},
     "output_type": "execute_result"
    }
   ],
   "source": [
    "url=\"https://en.wikipedia.org/wiki/Web_scraping\"\n",
    "page = requests.get(url)\n",
    "page.status_code\n",
    "\n"
   ]
  },
  {
   "cell_type": "code",
   "execution_count": 29,
   "id": "f72f93f2",
   "metadata": {},
   "outputs": [],
   "source": [
    "soup = BeautifulSoup(page.content, \"html.parser\")\n",
    "title = soup.find(\"h1\", id=\"firstHeading\").text\n"
   ]
  },
  {
   "cell_type": "code",
   "execution_count": 30,
   "id": "e203ec16",
   "metadata": {},
   "outputs": [
    {
     "name": "stdout",
     "output_type": "stream",
     "text": [
      "https://en.wikipedia.org/wiki/Web_scraping\n",
      "Web scraping\n"
     ]
    }
   ],
   "source": [
    "print(url)\n",
    "print(title)"
   ]
  },
  {
   "cell_type": "code",
   "execution_count": 31,
   "id": "a6d5f1e0",
   "metadata": {},
   "outputs": [],
   "source": [
    "result = []\n",
    "\n",
    "p = soup.find(\"p\").text\n",
    "h2 = soup.find(\"h2\").text\n",
    "ul = soup.find(\"ul\").text\n",
    "table = soup.find(\"table\",{'class': 'box-Unreferenced_section plainlinks metadata ambox ambox-content ambox-Unreferenced'}).text\n",
    "footer = soup.find(\"footer\").text\n",
    "result.append({\"url\":url,\"Names\":title, \"Paragraph\":p,\"Unorderlist\":ul,\"Table\":table,\"Footer\":footer})\n",
    "df = pd.DataFrame(result)\n",
    "df.to_csv(\"scrapped_data.csv\",index=False)\n",
    "\n",
    "\n"
   ]
  },
  {
   "cell_type": "code",
   "execution_count": null,
   "id": "e7e280d6",
   "metadata": {},
   "outputs": [],
   "source": [
    "    "
   ]
  },
  {
   "cell_type": "code",
   "execution_count": null,
   "id": "5209d74d",
   "metadata": {},
   "outputs": [],
   "source": []
  }
 ],
 "metadata": {
  "kernelspec": {
   "display_name": "Python 3 (ipykernel)",
   "language": "python",
   "name": "python3"
  },
  "language_info": {
   "codemirror_mode": {
    "name": "ipython",
    "version": 3
   },
   "file_extension": ".py",
   "mimetype": "text/x-python",
   "name": "python",
   "nbconvert_exporter": "python",
   "pygments_lexer": "ipython3",
   "version": "3.9.7"
  }
 },
 "nbformat": 4,
 "nbformat_minor": 5
}
